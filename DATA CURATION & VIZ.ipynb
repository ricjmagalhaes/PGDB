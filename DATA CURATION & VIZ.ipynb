{
 "cells": [
  {
   "cell_type": "markdown",
   "metadata": {},
   "source": [
    "# **DATA CURATION & VIZ** "
   ]
  },
  {
   "cell_type": "markdown",
   "metadata": {},
   "source": [
    "# Comparative Analysis of Taxation and Well-Being Across Countries\n",
    "In this assignment, you are tasked with investigating how the tax load in various countries relates to indicators of well-being as given by the Human Development Index (HDI). Your challenge is to load and explore the data, create visualizations, and explain the relationship between taxation and well-being.\n",
    "\n",
    "## Load and analyze the data\n",
    "\n",
    "1. **Load the the provided datasets** (source: [Gapminder](https://www.gapminder.org/data/)): \n",
    "    - `taxation_data.csv`: Tax revenue a percentage of Gross Domestic Product (GDP).\n",
    "    - `hdi_data.csv`: HDI which encompasses health, education, and living standard levels.\n",
    "1. **Initial data analysis**: Conduct an initial analysis of each dataset. This should include checking data types, exploring the range of values, identifying missing values, and performing basic descriptive statistics.\n",
    "1. **Ensure consistency**: Ensure that the country names and year ranges are consistent across the datasets. This may involve renaming countries for uniformity, aligning year ranges, and possibly filtering out countries that do not appear in both datasets.\n",
    "1. **Merge the datasets**: Use the `pd.merge()` function in Pandas to merge the datasets into a single DataFrame based on common countries and years. Check for any inconsistencies or anomalies in the merged data.\n",
    "\n",
    "## Data analysis and visualization\n",
    "1. **Exploratory Data Analysis (EDA)**: Perform a comprehensive exploratory analysis to uncover any interesting patterns or relationships.\n",
    "1. **Visualization**: Create at least *four different visualizations* to explore the relationships between the datasets and variables. Suggestions include, but are not limited to:\n",
    "    - Scatter plots to show relationships between variables.\n",
    "    - Line charts to explore trends over time.\n",
    "    - Heatmaps to visualize correlations or distributions.\n",
    "    - One of the visualizations **must be** an interactive Plotly visualization.\n",
    "\n",
    "## Interpretation and insight\n",
    "1. **Interpret visualizations**: For each visualization, provide a clear interpretation of the relationships and patterns observed. Pay special attention to any findings that are surprising or counterintuitive.\n",
    "1. **Develop a narrative**: Craft a cohesive narrative that connects your findings from the visualizations. Discuss how taxation relates to developmental indicators across different countries.\n",
    "1. **Summarize key takeaways**: Conclude with a summary of the key insights and their broader implications in understanding the relationship between taxation and well-being.\n",
    "\n",
    "## Submission guidelines\n",
    "- DEADLINE: **22nd of December** 23h59.\n",
    "- Submit **ONLY** a Jupyter notebook (`.ipynb` file) containing the analysis, visualizations, narrative, and takeaways.\n",
    "    - The notebook should be a combination of code cells to run the analysis and visualizations, and text cells to comment these.\n",
    "    - You DO NOT NEED to submit the data files (i.e., `taxation_data`, and `hdi_data`).\n",
    "    - Your file/ notebook name should follow the following format `pgdb_<your_name>.ipynb` (ex. `pgdb_bernardo_costa.ipynb`) \n",
    "- **Page limit**: The final notebook, if printed or converted to PDF, should not exceed **8 pages**. This includes all text, code, and visualizations, but excludes the assignment text in this cell (which should be 2 pages). Please check the length using a print preview mode or save the notebook to a PDF to ensure compliance.\n",
    "\n",
    "## Grading criteria\n",
    "| **Criteria** | **Description** | **Weight** |\n",
    "|--------------|-----------------|------------|\n",
    "| **Data curation** | Accurate data loading, comprehensive initial analysis, ensuring data consistency, and successful merging of datasets. | 25% |\n",
    "| **Exploratory Data Analysis (EDA)** | Conducting a thorough exploratory analysis to uncover patterns or relationships within the data. | 20% |\n",
    "| **Data visualization** | Creating a variety of informative and aesthetically appealing visualizations, including one interactive Plotly visualization. | 30% |\n",
    "| **Interpretation and narrative development** | Providing clear interpretations for each visualization, crafting a cohesive narrative connecting findings, and discussing the relationship between taxation and well-being. | 20% |\n",
    "| **Overall presentation and submission** | Quality of writing, logical organization of the notebook, and adherence to submission guidelines. | 5% |"
   ]
  },
  {
   "cell_type": "code",
   "execution_count": 283,
   "metadata": {},
   "outputs": [],
   "source": [
    "# import relevant libraries\n",
    "import pandas as pd\n",
    "import matplotlib.pyplot as plt\n",
    "import seaborn as sns\n",
    "import plotly.express as px\n",
    "from collections import Counter"
   ]
  },
  {
   "cell_type": "markdown",
   "metadata": {},
   "source": [
    "# VS Code\n",
    "Run this if you are using VS Code"
   ]
  },
  {
   "cell_type": "code",
   "execution_count": 284,
   "metadata": {},
   "outputs": [
    {
     "name": "stdout",
     "output_type": "stream",
     "text": [
      "Files load with success.\n"
     ]
    }
   ],
   "source": [
    "# assumes the csv files are in the same directory as the notebook\n",
    "try:\n",
    "    taxation_df = pd.read_csv(\"taxation_data.csv\")\n",
    "    hdi_df = pd.read_csv(\"hdi_data.csv\")\n",
    "    success = True\n",
    "except Exception as e:\n",
    "    success = False\n",
    "    error_message = str(e)\n",
    "\n",
    "print(\"Files load with success.\") if success else error_message"
   ]
  },
  {
   "cell_type": "markdown",
   "metadata": {},
   "source": [
    "### Begin Functions"
   ]
  },
  {
   "cell_type": "code",
   "execution_count": 285,
   "metadata": {},
   "outputs": [],
   "source": [
    "def print_firstAnalysis4EachDF(df1):\n",
    "    \"\"\"\n",
    "    Aligns two DF based on equals countries and years.    \n",
    "    Parameters:\n",
    "    - df1: DataFile for analysis      \n",
    "    Returns:\n",
    "    - Not Have Return Values\n",
    "    \"\"\"\n",
    "    # Explore Tax Revenue dataset | taxation_df.dtypes\n",
    "    df1.head()\n",
    "    ## Print the values in a single row to better view the countries names\n",
    "    values_list = df1['country'].tolist()  \n",
    "    print(values_list)  \n",
    "    # Check for missing values\n",
    "    print(f\"\\nDataset missing values,total: { df1.isnull().sum().sum() }\") #, and for each row Info:\",df1.isnull().sum())    \n",
    "    print(\"Dataset Info:\")\n",
    "    print(df1.info()) \n",
    "    # Explore the range of values for each numeric column\n",
    "    print(\"\\nDataset Descriptive Statistics:\", df1.describe())  \n",
    "    # Display data types of each column\n",
    "    print(\"\\nData Types:\", df1.dtypes)\n",
    "    "
   ]
  },
  {
   "cell_type": "markdown",
   "metadata": {},
   "source": [
    "# Initial data analysis"
   ]
  },
  {
   "cell_type": "code",
   "execution_count": 286,
   "metadata": {},
   "outputs": [
    {
     "name": "stdout",
     "output_type": "stream",
     "text": [
      "['Afghanistan', 'Angola', 'Albania', 'UAE', 'Argentina', 'Armenia', 'Australia', 'Austria', 'Azerbaijan', 'Burundi', 'Belgium', 'Benin', 'Burkina Faso', 'Bangladesh', 'Bulgaria', 'Bahrain', 'Bahamas', 'Bosnia and Herzegovina', 'Belarus', 'Belize', 'Bolivia', 'Brazil', 'Barbados', 'Bhutan', 'Botswana', 'Central African Republic', 'Canada', 'Switzerland', 'Chile', 'China', \"Cote d'Ivoire\", 'Cameroon', 'Congo, Dem. Rep.', 'Congo, Rep.', 'Colombia', 'Cape Verde', 'Costa Rica', 'Cyprus', 'Czech Republic', 'Germany', 'Denmark', 'Dominican Republic', 'Ecuador', 'Egypt', 'Spain', 'Estonia', 'Ethiopia', 'Finland', 'Fiji', 'France', 'Micronesia, Fed. Sts.', 'Gabon', 'UK', 'Georgia', 'Ghana', 'Guinea', 'Gambia', 'Guinea-Bissau', 'Equatorial Guinea', 'Greece', 'Guatemala', 'Honduras', 'Croatia', 'Hungary', 'Indonesia', 'India', 'Ireland', 'Iran', 'Iraq', 'Iceland', 'Israel', 'Italy', 'Jamaica', 'Jordan', 'Japan', 'Kazakhstan', 'Kenya', 'Kyrgyz Republic', 'Cambodia', 'Kiribati', 'St. Kitts and Nevis', 'South Korea', 'Kuwait', 'Lebanon', 'Liberia', 'St. Lucia', 'Sri Lanka', 'Lesotho', 'Lithuania', 'Luxembourg', 'Latvia', 'Macao, China', 'Morocco', 'Moldova', 'Madagascar', 'Maldives', 'Mexico', 'Marshall Islands', 'North Macedonia', 'Mali', 'Malta', 'Myanmar', 'Mongolia', 'Mozambique', 'Mauritius', 'Malawi', 'Malaysia', 'Namibia', 'Niger', 'Nicaragua', 'Netherlands', 'Norway', 'Nepal', 'Nauru', 'New Zealand', 'Pakistan', 'Panama', 'Peru', 'Philippines', 'Palau', 'Papua New Guinea', 'Poland', 'Portugal', 'Paraguay', 'Palestine', 'Romania', 'Russia', 'Rwanda', 'Saudi Arabia', 'Sudan', 'Senegal', 'Singapore', 'Solomon Islands', 'El Salvador', 'San Marino', 'Somalia', 'Serbia', 'Slovak Republic', 'Slovenia', 'Sweden', 'Seychelles', 'Togo', 'Thailand', 'Tajikistan', 'Timor-Leste', 'Trinidad and Tobago', 'Tunisia', 'Turkey', 'Tanzania', 'Uganda', 'Ukraine', 'Uruguay', 'USA', 'Uzbekistan', 'St. Vincent and the Grenadines', 'Vanuatu', 'Samoa', 'South Africa', 'Zambia', 'Zimbabwe']\n",
      "\n",
      "Dataset missing values,total: 3697\n",
      "Dataset Info:\n",
      "<class 'pandas.core.frame.DataFrame'>\n",
      "RangeIndex: 160 entries, 0 to 159\n",
      "Data columns (total 50 columns):\n",
      " #   Column   Non-Null Count  Dtype  \n",
      "---  ------   --------------  -----  \n",
      " 0   country  160 non-null    object \n",
      " 1   1972     34 non-null     float64\n",
      " 2   1973     41 non-null     float64\n",
      " 3   1974     42 non-null     float64\n",
      " 4   1975     43 non-null     float64\n",
      " 5   1976     47 non-null     float64\n",
      " 6   1977     48 non-null     float64\n",
      " 7   1978     48 non-null     float64\n",
      " 8   1979     47 non-null     float64\n",
      " 9   1980     49 non-null     float64\n",
      " 10  1981     49 non-null     float64\n",
      " 11  1982     47 non-null     float64\n",
      " 12  1983     48 non-null     float64\n",
      " 13  1984     48 non-null     float64\n",
      " 14  1985     50 non-null     float64\n",
      " 15  1986     50 non-null     float64\n",
      " 16  1987     48 non-null     float64\n",
      " 17  1988     51 non-null     float64\n",
      " 18  1989     52 non-null     float64\n",
      " 19  1990     74 non-null     float64\n",
      " 20  1991     74 non-null     float64\n",
      " 21  1992     76 non-null     float64\n",
      " 22  1993     76 non-null     float64\n",
      " 23  1994     76 non-null     float64\n",
      " 24  1995     87 non-null     float64\n",
      " 25  1996     86 non-null     float64\n",
      " 26  1997     89 non-null     float64\n",
      " 27  1998     93 non-null     float64\n",
      " 28  1999     93 non-null     float64\n",
      " 29  2000     86 non-null     float64\n",
      " 30  2001     91 non-null     float64\n",
      " 31  2002     96 non-null     float64\n",
      " 32  2003     100 non-null    float64\n",
      " 33  2004     102 non-null    float64\n",
      " 34  2005     104 non-null    float64\n",
      " 35  2006     107 non-null    float64\n",
      " 36  2007     107 non-null    float64\n",
      " 37  2008     115 non-null    float64\n",
      " 38  2009     119 non-null    float64\n",
      " 39  2010     124 non-null    float64\n",
      " 40  2011     129 non-null    float64\n",
      " 41  2012     133 non-null    float64\n",
      " 42  2013     130 non-null    float64\n",
      " 43  2014     137 non-null    float64\n",
      " 44  2015     140 non-null    float64\n",
      " 45  2016     138 non-null    float64\n",
      " 46  2017     139 non-null    float64\n",
      " 47  2018     132 non-null    float64\n",
      " 48  2019     127 non-null    float64\n",
      " 49  2020     121 non-null    object \n",
      "dtypes: float64(48), object(2)\n",
      "memory usage: 62.6+ KB\n",
      "None\n",
      "\n",
      "Dataset Descriptive Statistics:             1972       1973       1974       1975       1976       1977  \\\n",
      "count  34.000000  41.000000  42.000000  43.000000  47.000000  48.000000   \n",
      "mean   16.424118  15.571951  15.656190  15.454651  15.902766  16.276250   \n",
      "std     6.462280   6.416096   6.080318   5.519694   5.723085   6.201772   \n",
      "min     7.610000   7.090000   5.420000   7.520000   6.110000   4.620000   \n",
      "25%    11.500000  10.500000  11.225000  11.150000  11.100000  11.600000   \n",
      "50%    14.800000  13.800000  14.000000  14.700000  15.500000  15.350000   \n",
      "75%    20.650000  19.000000  18.775000  20.300000  20.000000  20.550000   \n",
      "max    37.400000  37.200000  32.700000  28.000000  29.600000  32.600000   \n",
      "\n",
      "            1978      1979       1980       1981  ...        2010        2011  \\\n",
      "count  48.000000  47.00000  49.000000  49.000000  ...  124.000000  129.000000   \n",
      "mean   16.080833  15.83383  15.815510  16.151020  ...   17.304597   17.747837   \n",
      "std     5.820620   5.99503   6.925906   7.197929  ...   10.339427   12.268038   \n",
      "min     5.490000   2.18000   2.700000   3.740000  ...    2.530000    0.321000   \n",
      "25%    11.475000  11.50000  10.500000  10.400000  ...   12.200000   12.400000   \n",
      "50%    15.750000  14.60000  15.200000  16.100000  ...   16.200000   16.800000   \n",
      "75%    20.575000  20.75000  20.400000  21.600000  ...   20.425000   20.600000   \n",
      "max    28.700000  29.20000  35.700000  34.800000  ...  110.000000  136.000000   \n",
      "\n",
      "             2012        2013        2014        2015        2016        2017  \\\n",
      "count  133.000000  130.000000  137.000000  140.000000  138.000000  139.000000   \n",
      "mean    17.903564   17.663238   17.360445   16.928899   16.932407   16.768746   \n",
      "std     13.141178    9.364865    7.743257    6.604110    6.580328    6.517671   \n",
      "min      0.354000    0.361000    0.346000    0.055800    0.042100    0.000110   \n",
      "25%     13.000000   12.925000   12.700000   12.475000   12.600000   11.950000   \n",
      "50%     16.200000   16.550000   16.600000   16.550000   16.250000   16.500000   \n",
      "75%     21.100000   21.950000   22.000000   21.975000   21.875000   22.000000   \n",
      "max    148.000000   93.900000   62.800000   36.100000   37.600000   33.400000   \n",
      "\n",
      "             2018        2019  \n",
      "count  132.000000  127.000000  \n",
      "mean    17.102036   17.150174  \n",
      "std      6.623691    6.668385  \n",
      "min      0.000130    0.000110  \n",
      "25%     12.200000   12.450000  \n",
      "50%     16.950000   16.900000  \n",
      "75%     22.425000   22.150000  \n",
      "max     32.200000   36.000000  \n",
      "\n",
      "[8 rows x 48 columns]\n",
      "\n",
      "Data Types: country     object\n",
      "1972       float64\n",
      "1973       float64\n",
      "1974       float64\n",
      "1975       float64\n",
      "1976       float64\n",
      "1977       float64\n",
      "1978       float64\n",
      "1979       float64\n",
      "1980       float64\n",
      "1981       float64\n",
      "1982       float64\n",
      "1983       float64\n",
      "1984       float64\n",
      "1985       float64\n",
      "1986       float64\n",
      "1987       float64\n",
      "1988       float64\n",
      "1989       float64\n",
      "1990       float64\n",
      "1991       float64\n",
      "1992       float64\n",
      "1993       float64\n",
      "1994       float64\n",
      "1995       float64\n",
      "1996       float64\n",
      "1997       float64\n",
      "1998       float64\n",
      "1999       float64\n",
      "2000       float64\n",
      "2001       float64\n",
      "2002       float64\n",
      "2003       float64\n",
      "2004       float64\n",
      "2005       float64\n",
      "2006       float64\n",
      "2007       float64\n",
      "2008       float64\n",
      "2009       float64\n",
      "2010       float64\n",
      "2011       float64\n",
      "2012       float64\n",
      "2013       float64\n",
      "2014       float64\n",
      "2015       float64\n",
      "2016       float64\n",
      "2017       float64\n",
      "2018       float64\n",
      "2019       float64\n",
      "2020        object\n",
      "dtype: object\n"
     ]
    }
   ],
   "source": [
    "# Explore taxation  dataset | taxation_data.dtypes\n",
    "print_firstAnalysis4EachDF(taxation_df)"
   ]
  },
  {
   "cell_type": "code",
   "execution_count": 287,
   "metadata": {},
   "outputs": [
    {
     "name": "stdout",
     "output_type": "stream",
     "text": [
      "['Afghanistan', 'Angola', 'Albania', 'Andorra', 'UAE', 'Argentina', 'Armenia', 'Antigua and Barbuda', 'Australia', 'Austria', 'Azerbaijan', 'Burundi', 'Belgium', 'Benin', 'Burkina Faso', 'Bangladesh', 'Bulgaria', 'Bahrain', 'Bahamas', 'Bosnia and Herzegovina', 'Belarus', 'Belize', 'Bolivia', 'Brazil', 'Barbados', 'Brunei', 'Bhutan', 'Botswana', 'Central African Republic', 'Canada', 'Switzerland', 'Chile', 'China', \"Cote d'Ivoire\", 'Cameroon', 'Congo, Dem. Rep.', 'Congo, Rep.', 'Colombia', 'Comoros', 'Cape Verde', 'Costa Rica', 'Cuba', 'Cyprus', 'Czech Republic', 'Germany', 'Djibouti', 'Dominica', 'Denmark', 'Dominican Republic', 'Algeria', 'Ecuador', 'Egypt', 'Eritrea', 'Spain', 'Estonia', 'Ethiopia', 'Finland', 'Fiji', 'France', 'Micronesia, Fed. Sts.', 'Gabon', 'UK', 'Georgia', 'Ghana', 'Guinea', 'Gambia', 'Guinea-Bissau', 'Equatorial Guinea', 'Greece', 'Grenada', 'Guatemala', 'Guyana', 'Hong Kong, China', 'Honduras', 'Croatia', 'Haiti', 'Hungary', 'Indonesia', 'India', 'Ireland', 'Iran', 'Iraq', 'Iceland', 'Israel', 'Italy', 'Jamaica', 'Jordan', 'Japan', 'Kazakhstan', 'Kenya', 'Kyrgyz Republic', 'Cambodia', 'Kiribati', 'St. Kitts and Nevis', 'South Korea', 'Kuwait', 'Lao', 'Lebanon', 'Liberia', 'Libya', 'St. Lucia', 'Liechtenstein', 'Sri Lanka', 'Lesotho', 'Lithuania', 'Luxembourg', 'Latvia', 'Morocco', 'Moldova', 'Madagascar', 'Maldives', 'Mexico', 'Marshall Islands', 'North Macedonia', 'Mali', 'Malta', 'Myanmar', 'Montenegro', 'Mongolia', 'Mozambique', 'Mauritania', 'Mauritius', 'Malawi', 'Malaysia', 'Namibia', 'Niger', 'Nigeria', 'Nicaragua', 'Netherlands', 'Norway', 'Nepal', 'New Zealand', 'Oman', 'Pakistan', 'Panama', 'Peru', 'Philippines', 'Palau', 'Papua New Guinea', 'Poland', 'Portugal', 'Paraguay', 'Palestine', 'Qatar', 'Romania', 'Russia', 'Rwanda', 'Saudi Arabia', 'Sudan', 'Senegal', 'Singapore', 'Solomon Islands', 'Sierra Leone', 'El Salvador', 'San Marino', 'Serbia', 'South Sudan', 'Sao Tome and Principe', 'Suriname', 'Slovak Republic', 'Slovenia', 'Sweden', 'Eswatini', 'Seychelles', 'Syria', 'Chad', 'Togo', 'Thailand', 'Tajikistan', 'Turkmenistan', 'Timor-Leste', 'Tonga', 'Trinidad and Tobago', 'Tunisia', 'Turkey', 'Tuvalu', 'Tanzania', 'Uganda', 'Ukraine', 'Uruguay', 'USA', 'Uzbekistan', 'St. Vincent and the Grenadines', 'Venezuela', 'Vietnam', 'Vanuatu', 'Samoa', 'Yemen', 'South Africa', 'Zambia', 'Zimbabwe']\n",
      "\n",
      "Dataset missing values,total: 541\n",
      "Dataset Info:\n",
      "<class 'pandas.core.frame.DataFrame'>\n",
      "RangeIndex: 191 entries, 0 to 190\n",
      "Data columns (total 33 columns):\n",
      " #   Column   Non-Null Count  Dtype  \n",
      "---  ------   --------------  -----  \n",
      " 0   country  191 non-null    object \n",
      " 1   1990     141 non-null    float64\n",
      " 2   1991     141 non-null    float64\n",
      " 3   1992     141 non-null    float64\n",
      " 4   1993     141 non-null    float64\n",
      " 5   1994     141 non-null    float64\n",
      " 6   1995     152 non-null    float64\n",
      " 7   1996     152 non-null    float64\n",
      " 8   1997     152 non-null    float64\n",
      " 9   1998     152 non-null    float64\n",
      " 10  1999     157 non-null    float64\n",
      " 11  2000     174 non-null    float64\n",
      " 12  2001     174 non-null    float64\n",
      " 13  2002     177 non-null    float64\n",
      " 14  2003     179 non-null    float64\n",
      " 15  2004     181 non-null    float64\n",
      " 16  2005     186 non-null    float64\n",
      " 17  2006     186 non-null    float64\n",
      " 18  2007     187 non-null    float64\n",
      " 19  2008     187 non-null    float64\n",
      " 20  2009     187 non-null    float64\n",
      " 21  2010     189 non-null    float64\n",
      " 22  2011     190 non-null    float64\n",
      " 23  2012     190 non-null    float64\n",
      " 24  2013     190 non-null    float64\n",
      " 25  2014     190 non-null    float64\n",
      " 26  2015     190 non-null    float64\n",
      " 27  2016     190 non-null    float64\n",
      " 28  2017     190 non-null    float64\n",
      " 29  2018     191 non-null    float64\n",
      " 30  2019     191 non-null    float64\n",
      " 31  2020     191 non-null    float64\n",
      " 32  2021     191 non-null    float64\n",
      "dtypes: float64(32), object(1)\n",
      "memory usage: 49.4+ KB\n",
      "None\n",
      "\n",
      "Dataset Descriptive Statistics:              1990        1991        1992        1993        1994        1995  \\\n",
      "count  141.000000  141.000000  141.000000  141.000000  141.000000  152.000000   \n",
      "mean     0.599277    0.601979    0.604525    0.608504    0.613411    0.617625   \n",
      "std      0.164044    0.164100    0.164457    0.165456    0.166191    0.164990   \n",
      "min      0.216000    0.218000    0.222000    0.227000    0.232000    0.238000   \n",
      "25%      0.482000    0.484000    0.485000    0.485000    0.486000    0.486750   \n",
      "50%      0.628000    0.629000    0.627000    0.634000    0.639000    0.646500   \n",
      "75%      0.728000    0.729000    0.727000    0.731000    0.741000    0.745250   \n",
      "max      0.872000    0.873000    0.878000    0.880000    0.884000    0.885000   \n",
      "\n",
      "             1996        1997        1998        1999  ...        2012  \\\n",
      "count  152.000000  152.000000  152.000000  157.000000  ...  190.000000   \n",
      "mean     0.623336    0.628599    0.634059    0.631592  ...    0.699416   \n",
      "std      0.165710    0.166592    0.167486    0.170187  ...    0.153326   \n",
      "min      0.243000    0.248000    0.256000    0.259000  ...    0.354000   \n",
      "25%      0.490750    0.492000    0.493000    0.482000  ...    0.572000   \n",
      "50%      0.653000    0.658000    0.664500    0.663000  ...    0.725000   \n",
      "75%      0.752000    0.759250    0.767000    0.773000  ...    0.816500   \n",
      "max      0.887000    0.890000    0.895000    0.901000  ...    0.946000   \n",
      "\n",
      "             2013        2014        2015        2016        2017        2018  \\\n",
      "count  190.000000  190.000000  190.000000  190.000000  190.000000  191.000000   \n",
      "mean     0.704153    0.708463    0.712258    0.716058    0.719547    0.723927   \n",
      "std      0.153183    0.152380    0.151868    0.151512    0.151377    0.150751   \n",
      "min      0.362000    0.370000    0.376000    0.383000    0.390000    0.395000   \n",
      "25%      0.573250    0.583250    0.591250    0.596000    0.597500    0.602500   \n",
      "50%      0.726500    0.729500    0.736000    0.741500    0.744000    0.746000   \n",
      "75%      0.818500    0.822250    0.828500    0.833000    0.833750    0.840000   \n",
      "max      0.949000    0.952000    0.954000    0.956000    0.959000    0.962000   \n",
      "\n",
      "             2019        2020        2021  \n",
      "count  191.000000  191.000000  191.000000  \n",
      "mean     0.727497    0.721524    0.720576  \n",
      "std      0.150415    0.149417    0.150661  \n",
      "min      0.393000    0.386000    0.385000  \n",
      "25%      0.610500    0.606000    0.599500  \n",
      "50%      0.746000    0.736000    0.739000  \n",
      "75%      0.843500    0.831500    0.835000  \n",
      "max      0.962000    0.959000    0.962000  \n",
      "\n",
      "[8 rows x 32 columns]\n",
      "\n",
      "Data Types: country     object\n",
      "1990       float64\n",
      "1991       float64\n",
      "1992       float64\n",
      "1993       float64\n",
      "1994       float64\n",
      "1995       float64\n",
      "1996       float64\n",
      "1997       float64\n",
      "1998       float64\n",
      "1999       float64\n",
      "2000       float64\n",
      "2001       float64\n",
      "2002       float64\n",
      "2003       float64\n",
      "2004       float64\n",
      "2005       float64\n",
      "2006       float64\n",
      "2007       float64\n",
      "2008       float64\n",
      "2009       float64\n",
      "2010       float64\n",
      "2011       float64\n",
      "2012       float64\n",
      "2013       float64\n",
      "2014       float64\n",
      "2015       float64\n",
      "2016       float64\n",
      "2017       float64\n",
      "2018       float64\n",
      "2019       float64\n",
      "2020       float64\n",
      "2021       float64\n",
      "dtype: object\n"
     ]
    }
   ],
   "source": [
    "# Explore hdi dataset | hdi_df.dtypes\n",
    "print_firstAnalysis4EachDF(hdi_df)"
   ]
  },
  {
   "cell_type": "markdown",
   "metadata": {},
   "source": [
    "#### Initial Data Analysis \n",
    "\n",
    "\n",
    "The datasets taxation_data.csv and hdi_data.csv contain information about countries' tax revenue as a percentage of GDP and Human Development Index (HDI) scores, respectively. The taxation_data have years from 1972 to 2020, while the hdi_data have years from 1990 to 2021.  \n",
    " \n",
    "**Taxation Data**\n",
    "- Data Types: The country column is of object type (likely strings), and all other columns (representing years) are of float64 type. The year 2020 is an object, indicating potential non-numeric data.\n",
    "- Missing Values: taxation_data has 3697 missing values. There are a significant number of missing values across different years. The missing data count decreases over time, suggesting more complete records in recent years.\n",
    "- Descriptive Statistics: This data isn't shown due to its extensive nature, but it includes key statistics like mean, standard deviation, minimum, and maximum values for each year.  \n",
    "  \n",
    "**HDI Data**\n",
    "- Data Types: Similar to the taxation data, the country column is of object type, and the remaining columns (years) are of float64 type.\n",
    "- Missing Values: hdi_data has 541 missing values. There are fewer missing values compared to the taxation data, and the number decreases over time. \n",
    "- Descriptive Statistics: This data includes statistics for each year. It is not shown here due to its length but would be important for understanding the distribution of HDI values over time."
   ]
  },
  {
   "cell_type": "code",
   "execution_count": 288,
   "metadata": {},
   "outputs": [
    {
     "name": "stdout",
     "output_type": "stream",
     "text": [
      "\n",
      "Taxa Data begin at : 1972 and end at 2020. Is 48 years in difference\n",
      "\n",
      "HDI Data begin at : 1990 and end at 2021. Is 31 years in difference\n",
      "\n",
      "Countries on Taxa: 160\n",
      "\n",
      "Countries on HDI: 191\n",
      "\n",
      "Countries on HDI but not on Taxa: Counter({'Hong Kong, China': 1, 'Brunei': 1, 'Montenegro': 1, 'Cuba': 1, 'Oman': 1, 'Chad': 1, 'Dominica': 1, 'Libya': 1, 'Tonga': 1, 'Liechtenstein': 1, 'Guyana': 1, 'Eswatini': 1, 'Lao': 1, 'Mauritania': 1, 'Yemen': 1, 'Sao Tome and Principe': 1, 'Tuvalu': 1, 'Eritrea': 1, 'Venezuela': 1, 'Qatar': 1, 'Nigeria': 1, 'Grenada': 1, 'Haiti': 1, 'Andorra': 1, 'Comoros': 1, 'Djibouti': 1, 'Turkmenistan': 1, 'Suriname': 1, 'Antigua and Barbuda': 1, 'Sierra Leone': 1, 'Vietnam': 1, 'South Sudan': 1, 'Syria': 1, 'Algeria': 1})\n",
      "\n",
      "Countries on Taxa but not in HDI: Counter({'Nauru': 1, 'Somalia': 1, 'Macao, China': 1})\n",
      "\n",
      "Countries on HDI but not on Taxa: Counter({'Hong Kong, China': 1, 'Brunei': 1, 'Montenegro': 1, 'Cuba': 1, 'Oman': 1, 'Chad': 1, 'Dominica': 1, 'Libya': 1, 'Tonga': 1, 'Liechtenstein': 1, 'Guyana': 1, 'Eswatini': 1, 'Lao': 1, 'Mauritania': 1, 'Yemen': 1, 'Sao Tome and Principe': 1, 'Tuvalu': 1, 'Eritrea': 1, 'Venezuela': 1, 'Qatar': 1, 'Nigeria': 1, 'Grenada': 1, 'Haiti': 1, 'Andorra': 1, 'Comoros': 1, 'Djibouti': 1, 'Turkmenistan': 1, 'Suriname': 1, 'Antigua and Barbuda': 1, 'Sierra Leone': 1, 'Vietnam': 1, 'South Sudan': 1, 'Syria': 1, 'Algeria': 1})\n",
      "\n",
      "Num of Countries on Taxa but not in HDI: 3\n",
      "\n",
      "Num of Countries on HDI but not on Taxa: 34\n",
      "\n",
      "Align the data sets to have the some year between 1990 and 2020\n"
     ]
    }
   ],
   "source": [
    "# Extracting the years from the files and calculating min, max, and differences between datasets\n",
    "taxation_years = taxation_df.columns[1:].astype(int)\n",
    "hdi_years = hdi_df.columns[1:].astype(int)\n",
    "taxation_min_year = taxation_years.min()\n",
    "taxation_max_year = taxation_years.max()\n",
    "taxation_year_diff = taxation_max_year - taxation_min_year\n",
    "hdi_min_year = hdi_years.min()\n",
    "hdi_max_year = hdi_years.max()\n",
    "hdi_year_diff = hdi_max_year - hdi_min_year\n",
    "\n",
    "#taxation_min_year, taxation_max_year, taxation_year_diff, hdi_min_year, hdi_max_year, hdi_year_diff\n",
    "print(f\"\\nTaxa Data begin at : { taxation_min_year } and end at {taxation_max_year}. Is {taxation_year_diff} years in difference\")\n",
    "print(f\"\\nHDI Data begin at : { hdi_min_year } and end at {hdi_max_year}. Is {hdi_year_diff} years in difference\")\n",
    "# Extracting country names from both datasets\n",
    "taxation_countries = set(taxation_df['country'])\n",
    "hdi_countries = set(hdi_df['country'])\n",
    "\n",
    "# Finding countries that are in one dataset but not on the other\n",
    "countries_in_taxation_not_in_hdi = taxation_countries - hdi_countries\n",
    "countries_in_hdi_not_in_taxation = hdi_countries - taxation_countries\n",
    " \n",
    "# countries_in_taxation_not_in_hdi, countries_in_hdi_not_in_taxation\n",
    "print(f\"\\nCountries on Taxa: { len(taxation_countries) }\")\n",
    "print(f\"\\nCountries on HDI: { len(hdi_countries) }\")\n",
    "print(f\"\\nCountries on HDI but not on Taxa: { Counter(countries_in_hdi_not_in_taxation) }\")\n",
    "print(f\"\\nCountries on Taxa but not in HDI: { Counter(countries_in_taxation_not_in_hdi) }\")\n",
    "print(f\"\\nCountries on HDI but not on Taxa: { Counter(countries_in_hdi_not_in_taxation) }\")\n",
    "print(f\"\\nNum of Countries on Taxa but not in HDI: { len(countries_in_taxation_not_in_hdi) }\")\n",
    "print(f\"\\nNum of Countries on HDI but not on Taxa: { len(countries_in_hdi_not_in_taxation) }\")\n",
    "  \n",
    "# Determine the range for alignment ()\n",
    "start_year = max(taxation_min_year, hdi_min_year)\n",
    "end_year = min(taxation_max_year, hdi_max_year)\n",
    "\n",
    "# Selecting the relevant years for each dataset\n",
    "taxation_aligned = taxation_df[['country'] + [str(year) for year in range(start_year, end_year + 1)]]\n",
    "hdi_aligned = hdi_df[['country'] + [str(year) for year in range(start_year, end_year + 1)]]\n",
    "\n",
    "# Displaying the first few rows of each aligned dataset to verify alignment\n",
    "print(f\"\\nAlign the data sets to have the some year between {start_year} and {end_year}\")\n",
    "#taxation_aligned.head(), hdi_aligned.head() "
   ]
  },
  {
   "cell_type": "markdown",
   "metadata": {},
   "source": [
    "**Consistency**\n",
    "\n",
    "The datasets show the following characteristics:\n",
    "\n",
    "- **Taxation Data**:\n",
    "    - Minimum Year: 1972, Maximum Year: 2020 - Years Difference: 48 years\n",
    "    - Taxa have 160 Countries - Countries in Taxa but not in HDI are 3: Nauru, Somalia and Macao, China\n",
    "- **HDI Data**: \n",
    "    - Minimum Year: 1990, Maximum Year: 2021 - Years Difference: 31 years\n",
    "    - Taxa have 191 Countries - Countries in HDI but not in Taxa are 34: like  China, Brunei, Montenegro etc...\n",
    "- **Country Names**: The country names between the two datasets, countries not present in both datasets.\n",
    "    - There are 3 countries unique to taxation_data and 34 unique to hdi_data.  \n",
    "- **Missing Values**: Given the extensive number of missing values, I will focus on the years where data overlap between the two datasets and handle missing values accordingly. I will align the year ranges. Since taxation_data starts in 1972 and hdi_data in 1990, I will focus on the common range from 1990 to 2020. "
   ]
  },
  {
   "cell_type": "markdown",
   "metadata": {},
   "source": [
    "### Other analyzes provided such as averages, largest and smallest  \n",
    "Only for **Taxa** Tax revenue a percentage of Gross Domestic Product "
   ]
  },
  {
   "cell_type": "code",
   "execution_count": 289,
   "metadata": {},
   "outputs": [
    {
     "name": "stdout",
     "output_type": "stream",
     "text": [
      "\n",
      "Highest Average: 66.99 for Country Timor-Leste\n",
      "\n",
      "Lowest Average: 0.00 for Country Somalia \n",
      "\n",
      "Max Growth: 9.60 for Country Greece\n",
      "\n",
      "Lowest Growth: -18.70 for Country Malta\n"
     ]
    }
   ],
   "source": [
    "# Calculate average Tax revenue a percentage of Gross Domestic Product (Taxa)  \n",
    "# Extract relevant columns for Taxa\n",
    "taxation_aligned = taxation_df[['country'] + [str(year) for year in range(start_year, end_year + 1)]]\n",
    "taxa_columns = taxation_aligned.columns[1:]  # Assuming the taxa columns start from the second column\n",
    "\n",
    "# Convert taxa columns to numeric (handling NaN values)\n",
    "taxation_aligned.loc[:, taxation_aligned.columns[1:]] = taxation_aligned.iloc[:, 1:].apply(pd.to_numeric, errors='coerce')\n",
    "#taxation_aligned[taxa_columns] = taxation_aligned.iloc[:, 1:].apply(pd.to_numeric, errors='coerce')\n",
    "\n",
    "# Calculate the average taxa for each country\n",
    "taxation_aligned = taxation_aligned.copy() \n",
    "taxation_aligned.loc[:, 'Average_Taxa'] = taxation_aligned.loc[:, taxa_columns].mean(axis=1, skipna=True) \n",
    "highest_avg_value = taxation_aligned['Average_Taxa'].max()\n",
    "highest_avg_country = taxation_aligned.at[taxation_aligned['Average_Taxa'].idxmax(), 'country']\n",
    "lwt_avg_value = taxation_aligned['Average_Taxa'].min()\n",
    "lwt_avg_country = taxation_aligned.at[taxation_aligned['Average_Taxa'].idxmin(), 'country']\n",
    "\n",
    "# The highest and lowest values in the 'Average_Taxa' column \n",
    "print(f\"\\nHighest Average: {'{0:.2f}'.format(highest_avg_value)} for Country { highest_avg_country }\")\n",
    "print(f\"\\nLowest Average: {'{0:.2f}'.format(lwt_avg_value)} for Country { lwt_avg_country } \", )\n",
    "\n",
    "# Total growth is defined as the difference between the final year's and the first available year's\n",
    "first_year_taxa = taxation_aligned[taxa_columns].ffill(axis=1).iloc[:, 0]\n",
    "last_year_taxa = taxation_aligned[taxa_columns].bfill(axis=1).iloc[:, -1]\n",
    "taxation_aligned['Total_Taxa_Growth'] = last_year_taxa - first_year_taxa\n",
    "max_growth_value = taxation_aligned['Total_Taxa_Growth'].max()\n",
    "max_growth_country = taxation_aligned.at[taxation_aligned['Total_Taxa_Growth'].idxmax(), 'country']\n",
    "min_growth_value = taxation_aligned['Total_Taxa_Growth'].min()\n",
    "min_growth_country = taxation_aligned.at[taxation_aligned['Total_Taxa_Growth'].idxmin(), 'country']\n",
    " \n",
    "# The highest and lowest values in total\n",
    "print(f\"\\nMax Growth: {'{0:.2f}'.format(max_growth_value)} for Country {max_growth_country}\")\n",
    "print(f\"\\nLowest Growth: {'{0:.2f}'.format(min_growth_value)} for Country {min_growth_country}\")\n"
   ]
  },
  {
   "cell_type": "markdown",
   "metadata": {},
   "source": [
    "**Analising the AVG, and growth of values**\n",
    "\n",
    "1. Highest Average:\n",
    "    - The highest average is approximately 66.99, observed for the country 'Timor-Leste'.\n",
    "1. Lowest Average:\n",
    "    - The lowest average is approximately 0, observed for the country 'Somalia'.  \n",
    "\n",
    "These results offer a comprehensive overview of the trends and variations across different countries over the years.\n",
    "\n",
    "1. Country with the Maximum Growth:\n",
    "    - Greece experienced the highest total growth, with an increase of approximately 9,60.\n",
    "1. Country with the Minimum (Negative) Growth:\n",
    "    - Malta showed the most significant decrease in , with a reduction of approximately -18,07."
   ]
  },
  {
   "cell_type": "markdown",
   "metadata": {},
   "source": [
    "### Merge"
   ]
  },
  {
   "cell_type": "code",
   "execution_count": 290,
   "metadata": {},
   "outputs": [
    {
     "data": {
      "text/html": [
       "<div>\n",
       "<style scoped>\n",
       "    .dataframe tbody tr th:only-of-type {\n",
       "        vertical-align: middle;\n",
       "    }\n",
       "\n",
       "    .dataframe tbody tr th {\n",
       "        vertical-align: top;\n",
       "    }\n",
       "\n",
       "    .dataframe thead th {\n",
       "        text-align: right;\n",
       "    }\n",
       "</style>\n",
       "<table border=\"1\" class=\"dataframe\">\n",
       "  <thead>\n",
       "    <tr style=\"text-align: right;\">\n",
       "      <th></th>\n",
       "      <th>country</th>\n",
       "      <th>year</th>\n",
       "      <th>taxa</th>\n",
       "      <th>hdi</th>\n",
       "    </tr>\n",
       "  </thead>\n",
       "  <tbody>\n",
       "    <tr>\n",
       "      <th>0</th>\n",
       "      <td>Afghanistan</td>\n",
       "      <td>1990</td>\n",
       "      <td>NaN</td>\n",
       "      <td>0.273</td>\n",
       "    </tr>\n",
       "    <tr>\n",
       "      <th>1</th>\n",
       "      <td>Angola</td>\n",
       "      <td>1990</td>\n",
       "      <td>NaN</td>\n",
       "      <td>NaN</td>\n",
       "    </tr>\n",
       "    <tr>\n",
       "      <th>2</th>\n",
       "      <td>Albania</td>\n",
       "      <td>1990</td>\n",
       "      <td>NaN</td>\n",
       "      <td>0.647</td>\n",
       "    </tr>\n",
       "    <tr>\n",
       "      <th>3</th>\n",
       "      <td>UAE</td>\n",
       "      <td>1990</td>\n",
       "      <td>NaN</td>\n",
       "      <td>0.728</td>\n",
       "    </tr>\n",
       "    <tr>\n",
       "      <th>4</th>\n",
       "      <td>Argentina</td>\n",
       "      <td>1990</td>\n",
       "      <td>4.84</td>\n",
       "      <td>0.723</td>\n",
       "    </tr>\n",
       "  </tbody>\n",
       "</table>\n",
       "</div>"
      ],
      "text/plain": [
       "       country  year  taxa    hdi\n",
       "0  Afghanistan  1990   NaN  0.273\n",
       "1       Angola  1990   NaN    NaN\n",
       "2      Albania  1990   NaN  0.647\n",
       "3          UAE  1990   NaN  0.728\n",
       "4    Argentina  1990  4.84  0.723"
      ]
     },
     "execution_count": 290,
     "metadata": {},
     "output_type": "execute_result"
    }
   ],
   "source": [
    "# Merging the two datasets (taxation_aligned with hdi_aligned) I use the year between 1990 and 2020 \n",
    "country_column_name = 'country'\n",
    "# First, melt the datasets to long format\n",
    "taxation_long = taxation_aligned.melt(id_vars=[country_column_name], var_name='year', value_name='taxa')\n",
    "hdi_long = hdi_aligned.melt(id_vars=[country_column_name], var_name='year', value_name='hdi')\n",
    "# Merging the datasets on country and year\n",
    "merged_data = pd.merge(taxation_long, hdi_long, on=[country_column_name, 'year'])\n",
    "# Displaying the first few rows of the merged dataset\n",
    "merged_data.head() #merged_data.count()"
   ]
  },
  {
   "cell_type": "code",
   "execution_count": 291,
   "metadata": {},
   "outputs": [
    {
     "name": "stdout",
     "output_type": "stream",
     "text": [
      "\n",
      "Total Of null Counts: country       0\n",
      "year          0\n",
      "taxa       1602\n",
      "hdi         360\n",
      "dtype: int64\n"
     ]
    }
   ],
   "source": [
    "# Calculating the count of null values for tax and HDI in the merged dataset \n",
    "\n",
    "# Counting null values for each country for tax and HDI separately\n",
    "null_counts_tax = merged_data.groupby('country')['taxa'].apply(lambda x: x.isnull().sum()).reset_index(name='null_tax_count')\n",
    "null_counts_hdi = merged_data.groupby('country')['hdi'].apply(lambda x: x.isnull().sum()).reset_index(name='null_hdi_count')\n",
    "\n",
    "# Finding the countries with the most and least null values for tax and HDI\n",
    "most_nulls_tax = null_counts_tax.sort_values(by='null_tax_count', ascending=False).iloc[0]\n",
    "least_nulls_tax = null_counts_tax.sort_values(by='null_tax_count').iloc[0]\n",
    "most_nulls_hdi = null_counts_hdi.sort_values(by='null_hdi_count', ascending=False).iloc[0]\n",
    "least_nulls_hdi = null_counts_hdi.sort_values(by='null_hdi_count').iloc[0]\n",
    "\n",
    "total_null_counts = merged_data.isnull().sum()\n",
    "#most_nulls_tax, least_nulls_tax, most_nulls_hdi, least_nulls_hdi, total_null_counts\n",
    "\n",
    "print(f\"\\nTotal Of null Counts: {total_null_counts}\")"
   ]
  },
  {
   "cell_type": "markdown",
   "metadata": {},
   "source": [
    "# Visualization"
   ]
  },
  {
   "cell_type": "markdown",
   "metadata": {},
   "source": [
    "### Data analysis and visualization\n",
    "\n",
    "To conduct a comprehensive exploratory analysis, I will:\n",
    "\n",
    "Examine Summary Statistics: Look at overall trends and distributions in the data.\n",
    "Correlation Analysis: Explore the relationship between tax revenue and HDI scores.\n",
    "Time Series Analysis: Investigate how these metrics have evolved over time for different countries.\n",
    "Grouped Analysis: Consider regional or income-based groupings to uncover any patterns. \n",
    "It appears there was an error in the correlation analysis due to the presence of missing values represented as 'NA' types in the dataset. I will adjust the approach to handle these missing values appropriately, either by excluding them from the correlation calculation or by using a method that can accommodate them."
   ]
  },
  {
   "cell_type": "markdown",
   "metadata": {},
   "source": [
    "## Visualization 1: Scatter Plot - HDI vs. Tax Revenue"
   ]
  },
  {
   "cell_type": "code",
   "execution_count": 292,
   "metadata": {},
   "outputs": [
    {
     "data": {
      "image/png": "[encoded data removed]",
      "text/plain": [
       "<Figure size 1000x600 with 1 Axes>"
      ]
     },
     "metadata": {},
     "output_type": "display_data"
    },
    {
     "data": {
      "text/html": [
       "<div>\n",
       "<style scoped>\n",
       "    .dataframe tbody tr th:only-of-type {\n",
       "        vertical-align: middle;\n",
       "    }\n",
       "\n",
       "    .dataframe tbody tr th {\n",
       "        vertical-align: top;\n",
       "    }\n",
       "\n",
       "    .dataframe thead th {\n",
       "        text-align: right;\n",
       "    }\n",
       "</style>\n",
       "<table border=\"1\" class=\"dataframe\">\n",
       "  <thead>\n",
       "    <tr style=\"text-align: right;\">\n",
       "      <th></th>\n",
       "      <th>taxa</th>\n",
       "      <th>hdi</th>\n",
       "    </tr>\n",
       "  </thead>\n",
       "  <tbody>\n",
       "    <tr>\n",
       "      <th>taxa</th>\n",
       "      <td>1.000000</td>\n",
       "      <td>0.294645</td>\n",
       "    </tr>\n",
       "    <tr>\n",
       "      <th>hdi</th>\n",
       "      <td>0.294645</td>\n",
       "      <td>1.000000</td>\n",
       "    </tr>\n",
       "  </tbody>\n",
       "</table>\n",
       "</div>"
      ],
      "text/plain": [
       "          taxa       hdi\n",
       "taxa  1.000000  0.294645\n",
       "hdi   0.294645  1.000000"
      ]
     },
     "execution_count": 292,
     "metadata": {},
     "output_type": "execute_result"
    }
   ],
   "source": [
    "# Converting year tax and HDI values to numeric for analysis\n",
    "merged_data['year'] = pd.to_numeric(merged_data['year'])\n",
    "merged_data['taxa'] = pd.to_numeric(merged_data['taxa'], errors='coerce')\n",
    "merged_data['hdi'] = pd.to_numeric(merged_data['hdi'], errors='coerce')\n",
    "\n",
    "# Correlation analysis between tax rate and HDI\n",
    "correlation = merged_data[['taxa', 'hdi']].corr()\n",
    "\n",
    "# Plotting the correlation between tax and HDI\n",
    "plt.figure(figsize=(10, 6))\n",
    "sns.scatterplot(data=merged_data, x='taxa', y='hdi')\n",
    "plt.title('Correlation between Taxa and HDI')\n",
    "plt.xlabel('Taxation (%)')\n",
    "plt.ylabel('Human Development Index (HDI)')\n",
    "plt.grid(True)\n",
    "plt.show()\n",
    "\n",
    "# Displaying the correlation coefficient\n",
    "correlation"
   ]
  },
  {
   "cell_type": "markdown",
   "metadata": {},
   "source": [
    "1. Understanding the Relationship\n",
    "    - Correlation Analysis: We can start by examining whether there's a significant correlation between a country's tax rates and its HDI. The HDI is a composite index measuring average achievement in three basic dimensions of human development—a long and healthy life, knowledge, and a decent standard of living. A positive correlation would suggest that higher tax rates might be associated with better human development outcomes, perhaps due to better-funded public services and infrastructure. \n",
    "1. Highlighting Key Examples\n",
    "    - Countries with High Growth in Both Tax and HDI: Some countries might show significant improvement in both tax collection and human development. This could suggest effective governance, where increased tax revenues are possibly being reinvested into sectors that directly impact human development like health, education, and welfare.\n",
    "    - Contrasting Stories: On the other hand, there could be examples where countries have high taxation but low HDI growth, or vice versa. These cases could highlight different economic strategies or challenges, like reliance on specific industries, issues in tax collection efficiency, or socio-political factors impacting development.\n",
    "1. Individual Country Focus\n",
    "    - Success Stories: A country with consistently low taxation but high HDI growth could indicate efficient use of resources and effective policy implementation. Similarly, a country that has managed to significantly improve its HDI despite low or moderate taxation levels might have interesting strategies worth exploring.\n",
    "    - Challenges Faced: Conversely, countries struggling with low HDI growth despite high taxation could be facing challenges like corruption, inefficient use of resources, or external economic pressures.\n",
    "1. Global and Regional Trends\n",
    "    - Global Overview: Looking at global trends, we might find patterns such as developed countries having higher taxes and HDI, whereas developing countries struggle on both fronts or have inconsistent patterns.\n",
    "    - Regional Insights: Regional analysis could reveal how geographical, cultural, or political factors influence the relationship between taxation and human development. For instance, countries in a specific region may show similar patterns due to shared economic policies or socio-political environments.\n",
    "1. The Impact of External Factors\n",
    "    - Considering External Influences: It's crucial to remember that many external factors can influence both tax rates and HDI. For example, global economic crises, natural disasters, or significant political changes can drastically alter these metrics. \n",
    "\n",
    "\n",
    "The correlation coefficient is approximately 0.294, indicating a weak positive linear relationship between tax rates and HDI. This suggests that, to some extent, higher tax rates are associated with higher human development levels, although the relationship is not strong.  \n",
    "The scatter plot visually confirms this relationship, showing a general trend where higher tax rates correspond to higher HDI values, but with considerable variability."
   ]
  },
  {
   "cell_type": "markdown",
   "metadata": {},
   "source": [
    "## Visualization 2: Line Chart - Tax Revenue Trends Over Time\n",
    "The second visualization is a line chart that depicts the trends in Tax Revenue over time for both Spain and Portugal. Each line represents a country, and data points are marked for each year. By observing the trends, we can identify whether Tax Revenue has increased, decreased, or remained stable over the years for each country."
   ]
  },
  {
   "cell_type": "code",
   "execution_count": 293,
   "metadata": {},
   "outputs": [],
   "source": [
    "# Replace 'desired_country' with the actual country you're looking for Penisula Iberica\n",
    "desired_countries = ['Portugal','Spain']\n",
    " \n",
    "desired_rows = merged_data[merged_data['country'].isin(desired_countries)]\n",
    "# Remove null values\n",
    "df_cleanedToUseOnPlot = desired_rows.dropna() "
   ]
  },
  {
   "cell_type": "code",
   "execution_count": 294,
   "metadata": {},
   "outputs": [
    {
     "data": {
      "image/png": "[encoded data removed]",
      "text/plain": [
       "<Figure size 1200x600 with 1 Axes>"
      ]
     },
     "metadata": {},
     "output_type": "display_data"
    }
   ],
   "source": [
    "# Creating a line chart for Tax Revenue Trends Over Time for Portugal and Spain\n",
    "plt.figure(figsize=(12, 6))\n",
    "sns.lineplot(data=df_cleanedToUseOnPlot, x='year', y='taxa', hue='country')\n",
    "plt.title('Tax Revenue Trends Over Time: Portugal vs. Spain')\n",
    "plt.xlabel('Year')\n",
    "plt.ylabel('Taxation (%)')\n",
    "plt.grid(True)\n",
    "plt.legend(title='Country')\n",
    "plt.show()\n"
   ]
  },
  {
   "cell_type": "markdown",
   "metadata": {},
   "source": [
    "- The chart shows how the tax rates have evolved over the years for both countries. We can observe periods of increase, stability, or decrease in tax rates.  By examining the slopes of the lines, we can identify which country experienced more significant growth or decline in tax rates over time.\n",
    "1. Potential Reasons Behind the Trends:\n",
    "    - Economic Factors: Changes in tax rates can be influenced by various economic factors such as GDP growth, inflation, unemployment rates, and overall economic policy. For example, a growing economy might see a reduction in tax rates, while an economy in recession might increase taxes to boost revenue.\n",
    "    - Government Policies: Different governments have different fiscal policies. A change in government can lead to changes in taxation policies, reflecting the economic ideology of the ruling party.\n",
    "    - External Influences: Global economic crises, such as the 2008 financial crisis, can have a significant impact on national tax policies. Countries might adjust their tax rates in response to external economic pressures.\n",
    "    - EU Membership and Policies: Both Portugal and Spain are members of the European Union, and their economic policies, including taxation, can be influenced by EU-wide policies and regulations.\n",
    "1. Conclusion:\n",
    "    - The tax revenue trends for Portugal and Spain reflect the interplay of multiple factors, including national economic conditions, government policies, and external influences. The exact reasons for the observed trends would require a more in-depth analysis, considering a range of economic and political data"
   ]
  },
  {
   "cell_type": "markdown",
   "metadata": {},
   "source": [
    "## Visualization 3: Heatmap - Correlation Matrix\n",
    "The heatmap displays the correlation matrix between Tax Revenue and HDI. Brighter colors indicate stronger correlations. This visualization helps us assess the degree of association between these two variables. A high positive correlation suggests that as one variable increases, the other tends to increase as well."
   ]
  },
  {
   "cell_type": "code",
   "execution_count": 295,
   "metadata": {},
   "outputs": [
    {
     "data": {
      "image/png": "[encoded data removed]",
      "text/plain": [
       "<Figure size 1000x800 with 2 Axes>"
      ]
     },
     "metadata": {},
     "output_type": "display_data"
    }
   ],
   "source": [
    "# Pivoting the data for heatmap preparation\n",
    "pivot_data = df_cleanedToUseOnPlot.pivot_table(values='taxa', index='year', columns='country')\n",
    "\n",
    "# Creating a heatmap for the correlation matrix\n",
    "plt.figure(figsize=(10, 8))\n",
    "sns.heatmap(pivot_data.corr(), annot=True, cmap='coolwarm')\n",
    "plt.title('Heatmap - Correlation Matrix of Tax Values: Portugal vs. Spain')\n",
    "plt.xlabel('Country')\n",
    "plt.ylabel('Country')\n",
    "plt.show()"
   ]
  },
  {
   "cell_type": "markdown",
   "metadata": {},
   "source": [
    "1. Interpretation of the Heatmap:\n",
    "    - Correlation Coefficients: The heatmap displays the correlation coefficients between the tax values of Portugal and Spain for each year. These coefficients range between -1 (perfect negative correlation) and +1 (perfect positive correlation), with 0 indicating no correlation.\n",
    "    - Color Scheme: The colors indicate the strength and direction of the correlation. Warmer colors (red-orange) represent stronger positive correlations, while cooler colors (blue) represent negative correlations.\n",
    "1. Observations:\n",
    "    - Portugal vs. Spain: The correlation coefficient between Portugal and Spain's tax values is shown in the heatmap. A high positive coefficient would suggest that when tax rates increase (or decrease) in one country, they tend to do the same in the other.\n",
    "    - Year-to-Year Correlation: The heatmap also provides insights into how the tax values of each country correlate with themselves across different years. This can indicate consistency or variability in tax policies over time.\n",
    "1. Conclusions:\n",
    "    - Economic and Policy Linkages: A strong correlation might suggest economic or policy linkages between the two countries. Given their geographical proximity and shared history, economic events in one country could potentially influence the other.\n",
    "    - Independent Trends: Conversely, a weaker correlation would imply that each country's tax trends are more independent, possibly driven by domestic factors rather than shared regional trends.\n",
    "    - This heatmap offers a high-level view of the relationship between Portugal and Spain in terms of taxation, and it suggests avenues for further, more detailed economic analysis."
   ]
  },
  {
   "cell_type": "markdown",
   "metadata": {},
   "source": [
    "## Visualization 4: Interactive Scatter Plot - HDI vs. Tax Revenue\n",
    "The final visualization is an interactive scatter plot using Plotly. This allows for a dynamic exploration of HDI vs. Tax Revenue, with each point providing details about the specific year. The interactive nature enables users to zoom in, hover over data points for details, and gain a more granular understanding of the relationship."
   ]
  },
  {
   "cell_type": "code",
   "execution_count": 296,
   "metadata": {},
   "outputs": [
    {
     "data": {
      "application/vnd.plotly.v1+json": {
       "config": {
        "plotlyServerURL": "https://plot.ly"
       },
       "data": [
        {
         "customdata": [
          [
           1990,
           "Spain"
          ],
          [
           1991,
           "Spain"
          ],
          [
           1992,
           "Spain"
          ],
          [
           1993,
           "Spain"
          ],
          [
           1994,
           "Spain"
          ],
          [
           2017,
           "Spain"
          ],
          [
           2018,
           "Spain"
          ],
          [
           2019,
           "Spain"
          ],
          [
           2020,
           "Spain"
          ]
         ],
         "hovertemplate": "country=%{customdata[1]}<br>Tax Revenue (%)=%{x}<br>Human Development Index (HDI)=%{y}<br>year=%{customdata[0]}<extra></extra>",
         "legendgroup": "Spain",
         "marker": {
          "color": "#636efa",
          "symbol": "circle"
         },
         "mode": "markers",
         "name": "Spain",
         "orientation": "v",
         "showlegend": true,
         "type": "scatter",
         "x": [
          15.7,
          15.8,
          16,
          14.9,
          15.1,
          13.7,
          14.2,
          13.7,
          13.6
         ],
         "xaxis": "x",
         "y": [
          0.757,
          0.764,
          0.772,
          0.781,
          0.789,
          0.897,
          0.901,
          0.908,
          0.899
         ],
         "yaxis": "y"
        },
        {
         "customdata": [
          [
           1990,
           "Portugal"
          ],
          [
           1991,
           "Portugal"
          ],
          [
           1992,
           "Portugal"
          ],
          [
           1993,
           "Portugal"
          ],
          [
           1994,
           "Portugal"
          ],
          [
           1995,
           "Portugal"
          ],
          [
           1996,
           "Portugal"
          ],
          [
           1997,
           "Portugal"
          ],
          [
           1998,
           "Portugal"
          ],
          [
           1999,
           "Portugal"
          ],
          [
           2000,
           "Portugal"
          ],
          [
           2001,
           "Portugal"
          ],
          [
           2002,
           "Portugal"
          ],
          [
           2003,
           "Portugal"
          ],
          [
           2004,
           "Portugal"
          ],
          [
           2005,
           "Portugal"
          ],
          [
           2006,
           "Portugal"
          ],
          [
           2007,
           "Portugal"
          ],
          [
           2008,
           "Portugal"
          ],
          [
           2009,
           "Portugal"
          ],
          [
           2010,
           "Portugal"
          ],
          [
           2011,
           "Portugal"
          ],
          [
           2012,
           "Portugal"
          ],
          [
           2013,
           "Portugal"
          ],
          [
           2014,
           "Portugal"
          ],
          [
           2015,
           "Portugal"
          ],
          [
           2016,
           "Portugal"
          ],
          [
           2017,
           "Portugal"
          ],
          [
           2018,
           "Portugal"
          ],
          [
           2019,
           "Portugal"
          ],
          [
           2020,
           "Portugal"
          ]
         ],
         "hovertemplate": "country=%{customdata[1]}<br>Tax Revenue (%)=%{x}<br>Human Development Index (HDI)=%{y}<br>year=%{customdata[0]}<extra></extra>",
         "legendgroup": "Portugal",
         "marker": {
          "color": "#EF553B",
          "symbol": "circle"
         },
         "mode": "markers",
         "name": "Portugal",
         "orientation": "v",
         "showlegend": true,
         "type": "scatter",
         "x": [
          17.7,
          18.3,
          20,
          18.6,
          19.4,
          19.7,
          20.5,
          20.3,
          20.4,
          20.9,
          20.9,
          20.5,
          20.8,
          19.9,
          20,
          20.6,
          21.1,
          21.3,
          21,
          19.1,
          19.6,
          21.1,
          20.8,
          22.7,
          22.6,
          22.8,
          22.3,
          22.4,
          22.7,
          22.2,
          22
         ],
         "xaxis": "x",
         "y": [
          0.701,
          0.711,
          0.727,
          0.741,
          0.754,
          0.761,
          0.769,
          0.778,
          0.786,
          0.785,
          0.791,
          0.797,
          0.798,
          0.802,
          0.805,
          0.806,
          0.811,
          0.818,
          0.822,
          0.825,
          0.829,
          0.835,
          0.836,
          0.845,
          0.848,
          0.85,
          0.853,
          0.859,
          0.86,
          0.867,
          0.863
         ],
         "yaxis": "y"
        }
       ],
       "layout": {
        "legend": {
         "title": {
          "text": "country"
         },
         "tracegroupgap": 0
        },
        "template": {
         "data": {
          "bar": [
           {
            "error_x": {
             "color": "#2a3f5f"
            },
            "error_y": {
             "color": "#2a3f5f"
            },
            "marker": {
             "line": {
              "color": "#E5ECF6",
              "width": 0.5
             },
             "pattern": {
              "fillmode": "overlay",
              "size": 10,
              "solidity": 0.2
             }
            },
            "type": "bar"
           }
          ],
          "barpolar": [
           {
            "marker": {
             "line": {
              "color": "#E5ECF6",
              "width": 0.5
             },
             "pattern": {
              "fillmode": "overlay",
              "size": 10,
              "solidity": 0.2
             }
            },
            "type": "barpolar"
           }
          ],
          "carpet": [
           {
            "aaxis": {
             "endlinecolor": "#2a3f5f",
             "gridcolor": "white",
             "linecolor": "white",
             "minorgridcolor": "white",
             "startlinecolor": "#2a3f5f"
            },
            "baxis": {
             "endlinecolor": "#2a3f5f",
             "gridcolor": "white",
             "linecolor": "white",
             "minorgridcolor": "white",
             "startlinecolor": "#2a3f5f"
            },
            "type": "carpet"
           }
          ],
          "choropleth": [
           {
            "colorbar": {
             "outlinewidth": 0,
             "ticks": ""
            },
            "type": "choropleth"
           }
          ],
          "contour": [
           {
            "colorbar": {
             "outlinewidth": 0,
             "ticks": ""
            },
            "colorscale": [
             [
              0,
              "#0d0887"
             ],
             [
              0.1111111111111111,
              "#46039f"
             ],
             [
              0.2222222222222222,
              "#7201a8"
             ],
             [
              0.3333333333333333,
              "#9c179e"
             ],
             [
              0.4444444444444444,
              "#bd3786"
             ],
             [
              0.5555555555555556,
              "#d8576b"
             ],
             [
              0.6666666666666666,
              "#ed7953"
             ],
             [
              0.7777777777777778,
              "#fb9f3a"
             ],
             [
              0.8888888888888888,
              "#fdca26"
             ],
             [
              1,
              "#f0f921"
             ]
            ],
            "type": "contour"
           }
          ],
          "contourcarpet": [
           {
            "colorbar": {
             "outlinewidth": 0,
             "ticks": ""
            },
            "type": "contourcarpet"
           }
          ],
          "heatmap": [
           {
            "colorbar": {
             "outlinewidth": 0,
             "ticks": ""
            },
            "colorscale": [
             [
              0,
              "#0d0887"
             ],
             [
              0.1111111111111111,
              "#46039f"
             ],
             [
              0.2222222222222222,
              "#7201a8"
             ],
             [
              0.3333333333333333,
              "#9c179e"
             ],
             [
              0.4444444444444444,
              "#bd3786"
             ],
             [
              0.5555555555555556,
              "#d8576b"
             ],
             [
              0.6666666666666666,
              "#ed7953"
             ],
             [
              0.7777777777777778,
              "#fb9f3a"
             ],
             [
              0.8888888888888888,
              "#fdca26"
             ],
             [
              1,
              "#f0f921"
             ]
            ],
            "type": "heatmap"
           }
          ],
          "heatmapgl": [
           {
            "colorbar": {
             "outlinewidth": 0,
             "ticks": ""
            },
            "colorscale": [
             [
              0,
              "#0d0887"
             ],
             [
              0.1111111111111111,
              "#46039f"
             ],
             [
              0.2222222222222222,
              "#7201a8"
             ],
             [
              0.3333333333333333,
              "#9c179e"
             ],
             [
              0.4444444444444444,
              "#bd3786"
             ],
             [
              0.5555555555555556,
              "#d8576b"
             ],
             [
              0.6666666666666666,
              "#ed7953"
             ],
             [
              0.7777777777777778,
              "#fb9f3a"
             ],
             [
              0.8888888888888888,
              "#fdca26"
             ],
             [
              1,
              "#f0f921"
             ]
            ],
            "type": "heatmapgl"
           }
          ],
          "histogram": [
           {
            "marker": {
             "pattern": {
              "fillmode": "overlay",
              "size": 10,
              "solidity": 0.2
             }
            },
            "type": "histogram"
           }
          ],
          "histogram2d": [
           {
            "colorbar": {
             "outlinewidth": 0,
             "ticks": ""
            },
            "colorscale": [
             [
              0,
              "#0d0887"
             ],
             [
              0.1111111111111111,
              "#46039f"
             ],
             [
              0.2222222222222222,
              "#7201a8"
             ],
             [
              0.3333333333333333,
              "#9c179e"
             ],
             [
              0.4444444444444444,
              "#bd3786"
             ],
             [
              0.5555555555555556,
              "#d8576b"
             ],
             [
              0.6666666666666666,
              "#ed7953"
             ],
             [
              0.7777777777777778,
              "#fb9f3a"
             ],
             [
              0.8888888888888888,
              "#fdca26"
             ],
             [
              1,
              "#f0f921"
             ]
            ],
            "type": "histogram2d"
           }
          ],
          "histogram2dcontour": [
           {
            "colorbar": {
             "outlinewidth": 0,
             "ticks": ""
            },
            "colorscale": [
             [
              0,
              "#0d0887"
             ],
             [
              0.1111111111111111,
              "#46039f"
             ],
             [
              0.2222222222222222,
              "#7201a8"
             ],
             [
              0.3333333333333333,
              "#9c179e"
             ],
             [
              0.4444444444444444,
              "#bd3786"
             ],
             [
              0.5555555555555556,
              "#d8576b"
             ],
             [
              0.6666666666666666,
              "#ed7953"
             ],
             [
              0.7777777777777778,
              "#fb9f3a"
             ],
             [
              0.8888888888888888,
              "#fdca26"
             ],
             [
              1,
              "#f0f921"
             ]
            ],
            "type": "histogram2dcontour"
           }
          ],
          "mesh3d": [
           {
            "colorbar": {
             "outlinewidth": 0,
             "ticks": ""
            },
            "type": "mesh3d"
           }
          ],
          "parcoords": [
           {
            "line": {
             "colorbar": {
              "outlinewidth": 0,
              "ticks": ""
             }
            },
            "type": "parcoords"
           }
          ],
          "pie": [
           {
            "automargin": true,
            "type": "pie"
           }
          ],
          "scatter": [
           {
            "fillpattern": {
             "fillmode": "overlay",
             "size": 10,
             "solidity": 0.2
            },
            "type": "scatter"
           }
          ],
          "scatter3d": [
           {
            "line": {
             "colorbar": {
              "outlinewidth": 0,
              "ticks": ""
             }
            },
            "marker": {
             "colorbar": {
              "outlinewidth": 0,
              "ticks": ""
             }
            },
            "type": "scatter3d"
           }
          ],
          "scattercarpet": [
           {
            "marker": {
             "colorbar": {
              "outlinewidth": 0,
              "ticks": ""
             }
            },
            "type": "scattercarpet"
           }
          ],
          "scattergeo": [
           {
            "marker": {
             "colorbar": {
              "outlinewidth": 0,
              "ticks": ""
             }
            },
            "type": "scattergeo"
           }
          ],
          "scattergl": [
           {
            "marker": {
             "colorbar": {
              "outlinewidth": 0,
              "ticks": ""
             }
            },
            "type": "scattergl"
           }
          ],
          "scattermapbox": [
           {
            "marker": {
             "colorbar": {
              "outlinewidth": 0,
              "ticks": ""
             }
            },
            "type": "scattermapbox"
           }
          ],
          "scatterpolar": [
           {
            "marker": {
             "colorbar": {
              "outlinewidth": 0,
              "ticks": ""
             }
            },
            "type": "scatterpolar"
           }
          ],
          "scatterpolargl": [
           {
            "marker": {
             "colorbar": {
              "outlinewidth": 0,
              "ticks": ""
             }
            },
            "type": "scatterpolargl"
           }
          ],
          "scatterternary": [
           {
            "marker": {
             "colorbar": {
              "outlinewidth": 0,
              "ticks": ""
             }
            },
            "type": "scatterternary"
           }
          ],
          "surface": [
           {
            "colorbar": {
             "outlinewidth": 0,
             "ticks": ""
            },
            "colorscale": [
             [
              0,
              "#0d0887"
             ],
             [
              0.1111111111111111,
              "#46039f"
             ],
             [
              0.2222222222222222,
              "#7201a8"
             ],
             [
              0.3333333333333333,
              "#9c179e"
             ],
             [
              0.4444444444444444,
              "#bd3786"
             ],
             [
              0.5555555555555556,
              "#d8576b"
             ],
             [
              0.6666666666666666,
              "#ed7953"
             ],
             [
              0.7777777777777778,
              "#fb9f3a"
             ],
             [
              0.8888888888888888,
              "#fdca26"
             ],
             [
              1,
              "#f0f921"
             ]
            ],
            "type": "surface"
           }
          ],
          "table": [
           {
            "cells": {
             "fill": {
              "color": "#EBF0F8"
             },
             "line": {
              "color": "white"
             }
            },
            "header": {
             "fill": {
              "color": "#C8D4E3"
             },
             "line": {
              "color": "white"
             }
            },
            "type": "table"
           }
          ]
         },
         "layout": {
          "annotationdefaults": {
           "arrowcolor": "#2a3f5f",
           "arrowhead": 0,
           "arrowwidth": 1
          },
          "autotypenumbers": "strict",
          "coloraxis": {
           "colorbar": {
            "outlinewidth": 0,
            "ticks": ""
           }
          },
          "colorscale": {
           "diverging": [
            [
             0,
             "#8e0152"
            ],
            [
             0.1,
             "#c51b7d"
            ],
            [
             0.2,
             "#de77ae"
            ],
            [
             0.3,
             "#f1b6da"
            ],
            [
             0.4,
             "#fde0ef"
            ],
            [
             0.5,
             "#f7f7f7"
            ],
            [
             0.6,
             "#e6f5d0"
            ],
            [
             0.7,
             "#b8e186"
            ],
            [
             0.8,
             "#7fbc41"
            ],
            [
             0.9,
             "#4d9221"
            ],
            [
             1,
             "#276419"
            ]
           ],
           "sequential": [
            [
             0,
             "#0d0887"
            ],
            [
             0.1111111111111111,
             "#46039f"
            ],
            [
             0.2222222222222222,
             "#7201a8"
            ],
            [
             0.3333333333333333,
             "#9c179e"
            ],
            [
             0.4444444444444444,
             "#bd3786"
            ],
            [
             0.5555555555555556,
             "#d8576b"
            ],
            [
             0.6666666666666666,
             "#ed7953"
            ],
            [
             0.7777777777777778,
             "#fb9f3a"
            ],
            [
             0.8888888888888888,
             "#fdca26"
            ],
            [
             1,
             "#f0f921"
            ]
           ],
           "sequentialminus": [
            [
             0,
             "#0d0887"
            ],
            [
             0.1111111111111111,
             "#46039f"
            ],
            [
             0.2222222222222222,
             "#7201a8"
            ],
            [
             0.3333333333333333,
             "#9c179e"
            ],
            [
             0.4444444444444444,
             "#bd3786"
            ],
            [
             0.5555555555555556,
             "#d8576b"
            ],
            [
             0.6666666666666666,
             "#ed7953"
            ],
            [
             0.7777777777777778,
             "#fb9f3a"
            ],
            [
             0.8888888888888888,
             "#fdca26"
            ],
            [
             1,
             "#f0f921"
            ]
           ]
          },
          "colorway": [
           "#636efa",
           "#EF553B",
           "#00cc96",
           "#ab63fa",
           "#FFA15A",
           "#19d3f3",
           "#FF6692",
           "#B6E880",
           "#FF97FF",
           "#FECB52"
          ],
          "font": {
           "color": "#2a3f5f"
          },
          "geo": {
           "bgcolor": "white",
           "lakecolor": "white",
           "landcolor": "#E5ECF6",
           "showlakes": true,
           "showland": true,
           "subunitcolor": "white"
          },
          "hoverlabel": {
           "align": "left"
          },
          "hovermode": "closest",
          "mapbox": {
           "style": "light"
          },
          "paper_bgcolor": "white",
          "plot_bgcolor": "#E5ECF6",
          "polar": {
           "angularaxis": {
            "gridcolor": "white",
            "linecolor": "white",
            "ticks": ""
           },
           "bgcolor": "#E5ECF6",
           "radialaxis": {
            "gridcolor": "white",
            "linecolor": "white",
            "ticks": ""
           }
          },
          "scene": {
           "xaxis": {
            "backgroundcolor": "#E5ECF6",
            "gridcolor": "white",
            "gridwidth": 2,
            "linecolor": "white",
            "showbackground": true,
            "ticks": "",
            "zerolinecolor": "white"
           },
           "yaxis": {
            "backgroundcolor": "#E5ECF6",
            "gridcolor": "white",
            "gridwidth": 2,
            "linecolor": "white",
            "showbackground": true,
            "ticks": "",
            "zerolinecolor": "white"
           },
           "zaxis": {
            "backgroundcolor": "#E5ECF6",
            "gridcolor": "white",
            "gridwidth": 2,
            "linecolor": "white",
            "showbackground": true,
            "ticks": "",
            "zerolinecolor": "white"
           }
          },
          "shapedefaults": {
           "line": {
            "color": "#2a3f5f"
           }
          },
          "ternary": {
           "aaxis": {
            "gridcolor": "white",
            "linecolor": "white",
            "ticks": ""
           },
           "baxis": {
            "gridcolor": "white",
            "linecolor": "white",
            "ticks": ""
           },
           "bgcolor": "#E5ECF6",
           "caxis": {
            "gridcolor": "white",
            "linecolor": "white",
            "ticks": ""
           }
          },
          "title": {
           "x": 0.05
          },
          "xaxis": {
           "automargin": true,
           "gridcolor": "white",
           "linecolor": "white",
           "ticks": "",
           "title": {
            "standoff": 15
           },
           "zerolinecolor": "white",
           "zerolinewidth": 2
          },
          "yaxis": {
           "automargin": true,
           "gridcolor": "white",
           "linecolor": "white",
           "ticks": "",
           "title": {
            "standoff": 15
           },
           "zerolinecolor": "white",
           "zerolinewidth": 2
          }
         }
        },
        "title": {
         "text": "Interactive Scatter Plot - HDI vs. Tax Revenue: Portugal and Spain"
        },
        "xaxis": {
         "anchor": "y",
         "domain": [
          0,
          1
         ],
         "title": {
          "text": "Tax Revenue (%)"
         }
        },
        "yaxis": {
         "anchor": "x",
         "domain": [
          0,
          1
         ],
         "title": {
          "text": "Human Development Index (HDI)"
         }
        }
       }
      }
     },
     "metadata": {},
     "output_type": "display_data"
    }
   ],
   "source": [
    "import plotly.express as px\n",
    "\n",
    "# Assuming 'filtered_data' contains the filtered dataset for Portugal and Spain\n",
    "fig = px.scatter(df_cleanedToUseOnPlot, x='taxa', y='hdi', color='country',\n",
    "                 labels={'taxa': 'Tax Revenue (%)', 'hdi': 'Human Development Index (HDI)'},\n",
    "                 title='Interactive Scatter Plot - HDI vs. Tax Revenue: Portugal and Spain',\n",
    "                 hover_data=['year', 'country'])\n",
    "\n",
    "fig.show() "
   ]
  },
  {
   "cell_type": "markdown",
   "metadata": {},
   "source": [
    "1. Observations from the Scatter Plot:\n",
    "    - Data Distribution: Portugal's data points are clustered more to the right, indicating generally higher tax revenue percentages compared to Spain. Meanwhile, Spain's HDI values are more consistently high, as seen by the concentration of points at the upper part of the graph.\n",
    "\n",
    "     - Relationship Pattern: There doesn't appear to be a strong linear relationship between tax revenue and HDI for either country; the points do not form a clear upward or downward trend. This suggests that the relationship between tax rates and human development in these countries is not straightforward and likely influenced by a multitude of other factors.\n",
    "\n",
    "     - Outliers: There are a few data points that stand out from the general clusters for each country. For instance, some points for Portugal show relatively high HDI despite lower tax revenue, while Spain has instances of higher tax revenue without a corresponding increase in HDI.\n",
    "\n",
    "1. Data Analysis and Interpretation:\n",
    "    - Correlation Analysis: A statistical correlation analysis can be performed to quantify the relationship between tax revenue and HDI. However, the visual scatter suggests that the correlation, if any, is not strong.\n",
    "\n",
    "    - Time Series Analysis: It might be useful to look at these indicators over time to understand how changes in one may have influenced changes in the other over specific periods.\n",
    "\n",
    "    - Policy Impact Assessment: By aligning these data points with historical policy changes, economic events, or social reforms in each country, one could assess how specific actions have affected tax revenues and HDI.\n",
    "\n",
    "    - Comparative Analysis: Comparing the two countries, we can attempt to understand how similar or different their approaches are to taxation and social development. This can provide insights into the efficacy of different fiscal strategies and their impact on human development.\n",
    "\n",
    "1. The Story Behind the Data:\n",
    "    - Portugal's Tax Policy: The data for Portugal indicates variability in tax revenue, with a slight indication of higher HDI at various levels of taxation. This might suggest that Portugal's social programs and infrastructure investments have a differing impact on human development, independent of the tax revenue generated.\n",
    "\n",
    "    - Spain's Human Development: Spain maintains a relatively high HDI across different levels of tax revenue. This could imply a strong social safety net or effective public services that support human development regardless of the exact tax intake.\n",
    "\n",
    "    - Economic and Social Context: Both countries show that there's more to human development than just the amount of tax revenue. Factors such as how tax revenue is allocated, the efficiency of public spending, and the resilience of social services play a crucial role in determining HDI.\n",
    "\n",
    "    - Broader Lessons: For policymakers, the lack of a clear correlation between tax rates and HDI in this dataset may suggest that simply raising taxes does not guarantee improved human development outcomes. It underscores the importance of targeted spending and efficient allocation of resources."
   ]
  }
 ],
 "metadata": {
  "kernelspec": {
   "display_name": "teach",
   "language": "python",
   "name": "python3"
  },
  "language_info": {
   "codemirror_mode": {
    "name": "ipython",
    "version": 3
   },
   "file_extension": ".py",
   "mimetype": "text/x-python",
   "name": "python",
   "nbconvert_exporter": "python",
   "pygments_lexer": "ipython3",
   "version": "3.11.3"
  }
 },
 "nbformat": 4,
 "nbformat_minor": 2
}
